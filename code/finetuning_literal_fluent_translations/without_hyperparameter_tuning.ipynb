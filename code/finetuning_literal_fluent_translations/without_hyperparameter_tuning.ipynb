{
 "cells": [
  {
   "cell_type": "code",
   "execution_count": 2,
   "metadata": {
    "execution": {
     "iopub.execute_input": "2025-04-23T04:21:31.782864Z",
     "iopub.status.busy": "2025-04-23T04:21:31.781902Z",
     "iopub.status.idle": "2025-04-23T04:21:40.296227Z",
     "shell.execute_reply": "2025-04-23T04:21:40.295647Z",
     "shell.execute_reply.started": "2025-04-23T04:21:31.782823Z"
    },
    "trusted": true
   },
   "outputs": [
    {
     "name": "stderr",
     "output_type": "stream",
     "text": [
      "2025-04-23 04:21:37.446178: E external/local_xla/xla/stream_executor/cuda/cuda_fft.cc:477] Unable to register cuFFT factory: Attempting to register factory for plugin cuFFT when one has already been registered\n",
      "WARNING: All log messages before absl::InitializeLog() is called are written to STDERR\n",
      "E0000 00:00:1745382097.469055     306 cuda_dnn.cc:8310] Unable to register cuDNN factory: Attempting to register factory for plugin cuDNN when one has already been registered\n",
      "E0000 00:00:1745382097.475962     306 cuda_blas.cc:1418] Unable to register cuBLAS factory: Attempting to register factory for plugin cuBLAS when one has already been registered\n"
     ]
    }
   ],
   "source": [
    "import pandas as pd\n",
    "import torch\n",
    "from datasets import Dataset\n",
    "from transformers import AutoTokenizer, AutoModelForSequenceClassification, TrainingArguments, Trainer, EarlyStoppingCallback\n",
    "from sklearn.metrics import accuracy_score, classification_report, confusion_matrix\n",
    "import numpy as np\n",
    "import json\n",
    "import matplotlib.pyplot as plt\n",
    "import seaborn as sns"
   ]
  },
  {
   "cell_type": "code",
   "execution_count": 24,
   "metadata": {
    "execution": {
     "iopub.execute_input": "2025-04-23T04:51:11.845153Z",
     "iopub.status.busy": "2025-04-23T04:51:11.844866Z",
     "iopub.status.idle": "2025-04-23T04:51:11.852251Z",
     "shell.execute_reply": "2025-04-23T04:51:11.851245Z",
     "shell.execute_reply.started": "2025-04-23T04:51:11.845130Z"
    },
    "trusted": true
   },
   "outputs": [],
   "source": [
    "def preprocess_data(df, text_column):\n",
    "    df = df[['Split', text_column, 'Sentiment']].rename(columns={text_column: 'text', 'Sentiment': 'label'})\n",
    "    df = df.dropna()\n",
    "    df = df[df['label'].isin([0, 1, 2])]\n",
    "    return df\n",
    "\n",
    "def tokenize_function(example, tokenizer):\n",
    "    return tokenizer(example['text'], truncation=True, padding='max_length', max_length=128)\n",
    "\n",
    "def compute_metrics(eval_pred):\n",
    "    predictions, labels = eval_pred\n",
    "    preds = predictions.argmax(axis=-1)\n",
    "    acc = accuracy_score(labels, preds)\n",
    "    report = classification_report(labels, preds, output_dict=True)\n",
    "    return {\n",
    "        'accuracy': acc,\n",
    "        'precision': report['weighted avg']['precision'],\n",
    "        'recall': report['weighted avg']['recall'],\n",
    "        'f1': report['weighted avg']['f1-score']\n",
    "    }\n",
    "\n",
    "def plot_confusion_matrix(cm, class_names):\n",
    "    plt.figure(figsize=(10, 8))\n",
    "    sns.heatmap(cm, annot=True, fmt='d', cmap='Blues', xticklabels=class_names, yticklabels=class_names)\n",
    "    plt.xlabel('Predicted')\n",
    "    plt.ylabel('True')\n",
    "    plt.title('Confusion Matrix')\n",
    "    plt.tight_layout()\n",
    "    return plt"
   ]
  },
  {
   "cell_type": "code",
   "execution_count": null,
   "metadata": {
    "execution": {
     "iopub.execute_input": "2025-04-23T05:01:48.775147Z",
     "iopub.status.busy": "2025-04-23T05:01:48.774314Z",
     "iopub.status.idle": "2025-04-23T05:01:48.788545Z",
     "shell.execute_reply": "2025-04-23T05:01:48.787833Z",
     "shell.execute_reply.started": "2025-04-23T05:01:48.775116Z"
    },
    "trusted": true
   },
   "outputs": [],
   "source": [
    "def finetune_sentiment_model(language):\n",
    "    print(f\"\\nProcessing language: {language}\")\n",
    "    base_dir = \"/kaggle/input/translated-data\"\n",
    "    df = pd.read_csv(f\"{base_dir}/{language}_cleaned.csv\")\n",
    "    \n",
    "    # Use the original Twitter-specific model\n",
    "    model_name = 'cardiffnlp/twitter-roberta-base-sentiment'\n",
    "    tokenizer = AutoTokenizer.from_pretrained(model_name)\n",
    "    \n",
    "    # Define sentiment class names for confusion matrix\n",
    "    class_names = [\"Negative\", \"Neutral\", \"Positive\"]\n",
    "    \n",
    "    for mode in ['Cleaned_Literal_Translation', 'Cleaned_Fluent_Translation']:\n",
    "        print(f\"Training using: {mode}\")\n",
    "        data = preprocess_data(df, mode)\n",
    "                \n",
    "        train_df = data[data['Split'] == 'train']\n",
    "        val_df = data[data['Split'] == 'val']\n",
    "        test_df = data[data['Split'] == 'test']\n",
    "        \n",
    "        train_ds = Dataset.from_pandas(train_df[['text', 'label']])\n",
    "        val_ds = Dataset.from_pandas(val_df[['text', 'label']])\n",
    "        test_ds = Dataset.from_pandas(test_df[['text', 'label']])\n",
    "        \n",
    "        train_ds = train_ds.map(lambda x: tokenize_function(x, tokenizer), batched=True)\n",
    "        val_ds = val_ds.map(lambda x: tokenize_function(x, tokenizer), batched=True)\n",
    "        test_ds = test_ds.map(lambda x: tokenize_function(x, tokenizer), batched=True)\n",
    "        \n",
    "        model = AutoModelForSequenceClassification.from_pretrained(model_name, num_labels=3)\n",
    "        \n",
    "        training_args = TrainingArguments(\n",
    "            output_dir=f\"./results_{language}_{mode.lower()}_temp\",\n",
    "            eval_strategy=\"epoch\",\n",
    "            save_strategy=\"no\",\n",
    "            learning_rate=3e-5,\n",
    "            per_device_train_batch_size=32,\n",
    "            per_device_eval_batch_size=32,\n",
    "            num_train_epochs=15,\n",
    "            weight_decay=0.1,\n",
    "            logging_steps=10,\n",
    "            logging_dir=f\"./logs_{language}_{mode.lower()}\",\n",
    "            report_to=\"none\",\n",
    "            metric_for_best_model=\"eval_accuracy\",\n",
    "            warmup_ratio=0.1,\n",
    "        )\n",
    "        \n",
    "        early_stopping_callback = EarlyStoppingCallback(\n",
    "            early_stopping_patience=2,\n",
    "            early_stopping_threshold=0.001\n",
    "        )\n",
    "        \n",
    "        trainer = Trainer(\n",
    "            model=model,\n",
    "            args=training_args,\n",
    "            train_dataset=train_ds,\n",
    "            eval_dataset=val_ds,\n",
    "            tokenizer=tokenizer,\n",
    "            compute_metrics=compute_metrics,\n",
    "            callbacks=[early_stopping_callback]\n",
    "        )\n",
    "        \n",
    "        trainer.train()\n",
    "        \n",
    "        print(\"Evaluating on test set using the best model...\")\n",
    "        test_metrics = trainer.evaluate(test_ds)\n",
    "        \n",
    "        predictions = trainer.predict(test_ds)\n",
    "        preds = predictions.predictions.argmax(-1)\n",
    "        labels = predictions.label_ids\n",
    "        \n",
    "        correct_predictions = (preds == labels).sum()\n",
    "        total_samples = len(labels)\n",
    "        \n",
    "        print(f\"Test set statistics:\")\n",
    "        print(f\"Total samples: {total_samples}\")\n",
    "        print(f\"Correctly classified: {correct_predictions} ({correct_predictions/total_samples:.2%})\")\n",
    "        \n",
    "        cm = confusion_matrix(labels, preds)\n",
    "        print(\"\\n   Confusion Matrix:\")\n",
    "        print(\"      True \\\\ Predicted | \", end=\"\")\n",
    "        for i, name in enumerate(class_names):\n",
    "            print(f\"{name:<10}\", end=\" \")\n",
    "        print(\"\\n      \" + \"-\" * 50)\n",
    "        \n",
    "        for i, name in enumerate(class_names):\n",
    "            print(f\"      {name:<15} | \", end=\"\")\n",
    "            for j in range(len(class_names)):\n",
    "                print(f\"{cm[i, j]:<10}\", end=\" \")\n",
    "            print()\n",
    "        \n",
    "        plt = plot_confusion_matrix(cm, class_names)\n",
    "        plt.savefig(f\"{language}_{mode.lower()}_confusion_matrix.png\")\n",
    "        plt.close()\n",
    "        print(f\"Saved confusion matrix plot to {language}_{mode.lower()}_confusion_matrix.png\")\n",
    "        \n",
    "        class_report = classification_report(labels, preds, target_names=class_names, output_dict=True)\n",
    "        test_metrics.update({\n",
    "            \"detailed_metrics\": class_report,\n",
    "            \"total_samples\": total_samples,\n",
    "            \"correct_predictions\": int(correct_predictions),\n",
    "            \"confusion_matrix\": cm.tolist()\n",
    "        })\n",
    "        \n",
    "        out_file = f\"{language}_{mode.lower()}_results.json\"\n",
    "        with open(out_file, \"w\") as f:\n",
    "            json.dump(test_metrics, f, indent=2)\n",
    "        print(f\"Saved results to {out_file}\")\n",
    "\n",
    "        import shutil\n",
    "        import os\n",
    "        temp_path = \"/kaggle/working\"\n",
    "\n",
    "        if os.path.exists(f\"{temp_path}/results_{language}_{mode.lower()}_temp\"):\n",
    "            shutil.rmtree(f\"{temp_path}/results_{language}_{mode.lower()}_temp\")\n",
    "            print(f\"Cleaned up temporary checkpoint files\")"
   ]
  },
  {
   "cell_type": "code",
   "execution_count": null,
   "metadata": {
    "execution": {
     "iopub.execute_input": "2025-04-23T04:29:07.785879Z",
     "iopub.status.busy": "2025-04-23T04:29:07.785219Z",
     "iopub.status.idle": "2025-04-23T04:35:40.272673Z",
     "shell.execute_reply": "2025-04-23T04:35:40.272087Z",
     "shell.execute_reply.started": "2025-04-23T04:29:07.785850Z"
    },
    "trusted": true
   },
   "outputs": [],
   "source": [
    "finetune_sentiment_model(\"french\")"
   ]
  },
  {
   "cell_type": "code",
   "execution_count": null,
   "metadata": {
    "execution": {
     "iopub.execute_input": "2025-04-23T04:35:40.274003Z",
     "iopub.status.busy": "2025-04-23T04:35:40.273728Z",
     "iopub.status.idle": "2025-04-23T04:43:19.739180Z",
     "shell.execute_reply": "2025-04-23T04:43:19.738533Z",
     "shell.execute_reply.started": "2025-04-23T04:35:40.273982Z"
    },
    "trusted": true
   },
   "outputs": [],
   "source": [
    "finetune_sentiment_model(\"italian\")"
   ]
  },
  {
   "cell_type": "code",
   "execution_count": null,
   "metadata": {
    "execution": {
     "iopub.execute_input": "2025-04-23T04:51:26.038870Z",
     "iopub.status.busy": "2025-04-23T04:51:26.038336Z",
     "iopub.status.idle": "2025-04-23T04:55:56.830402Z",
     "shell.execute_reply": "2025-04-23T04:55:56.829704Z",
     "shell.execute_reply.started": "2025-04-23T04:51:26.038842Z"
    },
    "trusted": true
   },
   "outputs": [],
   "source": [
    "finetune_sentiment_model(\"german\")"
   ]
  },
  {
   "cell_type": "code",
   "execution_count": null,
   "metadata": {
    "execution": {
     "iopub.execute_input": "2025-04-23T05:06:38.536629Z",
     "iopub.status.busy": "2025-04-23T05:06:38.536323Z",
     "iopub.status.idle": "2025-04-23T05:10:26.475180Z",
     "shell.execute_reply": "2025-04-23T05:10:26.474626Z",
     "shell.execute_reply.started": "2025-04-23T05:06:38.536600Z"
    },
    "trusted": true
   },
   "outputs": [],
   "source": [
    "finetune_sentiment_model(\"spanish\")"
   ]
  },
  {
   "cell_type": "code",
   "execution_count": null,
   "metadata": {},
   "outputs": [],
   "source": [
    "finetune_sentiment_model(\"arabic\")"
   ]
  }
 ],
 "metadata": {
  "kaggle": {
   "accelerator": "nvidiaTeslaT4",
   "dataSources": [
    {
     "datasetId": 7226277,
     "sourceId": 11522561,
     "sourceType": "datasetVersion"
    }
   ],
   "dockerImageVersionId": 31011,
   "isGpuEnabled": true,
   "isInternetEnabled": true,
   "language": "python",
   "sourceType": "notebook"
  },
  "kernelspec": {
   "display_name": "Python 3",
   "language": "python",
   "name": "python3"
  },
  "language_info": {
   "codemirror_mode": {
    "name": "ipython",
    "version": 3
   },
   "file_extension": ".py",
   "mimetype": "text/x-python",
   "name": "python",
   "nbconvert_exporter": "python",
   "pygments_lexer": "ipython3",
   "version": "3.11.11"
  }
 },
 "nbformat": 4,
 "nbformat_minor": 4
}
