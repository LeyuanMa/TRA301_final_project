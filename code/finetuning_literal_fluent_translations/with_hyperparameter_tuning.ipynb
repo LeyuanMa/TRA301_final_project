{
 "cells": [
  {
   "cell_type": "code",
   "execution_count": 3,
   "metadata": {
    "_cell_guid": "b1076dfc-b9ad-4769-8c92-a6c4dae69d19",
    "_uuid": "8f2839f25d086af736a60e9eeb907d3b93b6e0e5",
    "execution": {
     "iopub.execute_input": "2025-05-06T19:48:25.985127Z",
     "iopub.status.busy": "2025-05-06T19:48:25.984462Z",
     "iopub.status.idle": "2025-05-06T19:48:50.802887Z",
     "shell.execute_reply": "2025-05-06T19:48:50.802304Z",
     "shell.execute_reply.started": "2025-05-06T19:48:25.985095Z"
    },
    "trusted": true
   },
   "outputs": [],
   "source": [
    "import os\n",
    "import json\n",
    "import torch\n",
    "import pandas as pd\n",
    "import numpy as np\n",
    "import matplotlib.pyplot as plt\n",
    "import seaborn as sns\n",
    "from sklearn.metrics import accuracy_score, classification_report, confusion_matrix\n",
    "from datasets import Dataset\n",
    "from torch.utils.data import DataLoader\n",
    "from transformers import AutoTokenizer, AutoModelForSequenceClassification, get_scheduler\n",
    "import pytorch_lightning as pl\n",
    "from pytorch_lightning.loggers import CSVLogger\n",
    "from ray import tune\n",
    "from ray.tune.integration.pytorch_lightning import TuneReportCallback\n",
    "from pytorch_lightning.callbacks.early_stopping import EarlyStopping"
   ]
  },
  {
   "cell_type": "code",
   "execution_count": 4,
   "metadata": {
    "execution": {
     "iopub.execute_input": "2025-05-06T19:48:50.804410Z",
     "iopub.status.busy": "2025-05-06T19:48:50.804133Z",
     "iopub.status.idle": "2025-05-06T19:48:50.811059Z",
     "shell.execute_reply": "2025-05-06T19:48:50.810161Z",
     "shell.execute_reply.started": "2025-05-06T19:48:50.804382Z"
    },
    "trusted": true
   },
   "outputs": [],
   "source": [
    "class SentimentDataModule(pl.LightningDataModule):\n",
    "    def __init__(self, tokenizer, train_df, val_df, test_df, batch_size):\n",
    "        super().__init__()\n",
    "        self.tokenizer = tokenizer\n",
    "        self.train_df = train_df\n",
    "        self.val_df = val_df\n",
    "        self.test_df = test_df\n",
    "        self.batch_size = batch_size\n",
    "\n",
    "    def tokenize(self, df):\n",
    "        ds = Dataset.from_pandas(df[['text', 'label']])\n",
    "        return ds.map(lambda x: self.tokenizer(x['text'], truncation=True, padding='max_length', max_length=128), batched=True)\n",
    "\n",
    "    def setup(self, stage=None):\n",
    "        self.train_dataset = self.tokenize(self.train_df).with_format(\"torch\")\n",
    "        self.val_dataset = self.tokenize(self.val_df).with_format(\"torch\")\n",
    "        self.test_dataset = self.tokenize(self.test_df).with_format(\"torch\")\n",
    "\n",
    "    def train_dataloader(self):\n",
    "        return DataLoader(self.train_dataset, batch_size=self.batch_size, shuffle=True)\n",
    "\n",
    "    def val_dataloader(self):\n",
    "        return DataLoader(self.val_dataset, batch_size=self.batch_size)\n",
    "\n",
    "    def test_dataloader(self):\n",
    "        return DataLoader(self.test_dataset, batch_size=self.batch_size)"
   ]
  },
  {
   "cell_type": "code",
   "execution_count": 5,
   "metadata": {
    "execution": {
     "iopub.execute_input": "2025-05-06T19:48:50.812420Z",
     "iopub.status.busy": "2025-05-06T19:48:50.811972Z",
     "iopub.status.idle": "2025-05-06T19:48:50.863819Z",
     "shell.execute_reply": "2025-05-06T19:48:50.863150Z",
     "shell.execute_reply.started": "2025-05-06T19:48:50.812395Z"
    },
    "trusted": true
   },
   "outputs": [],
   "source": [
    "class SentimentClassifier(pl.LightningModule):\n",
    "    def __init__(self, model_name, learning_rate, num_labels=3):\n",
    "        super().__init__()\n",
    "        self.save_hyperparameters()\n",
    "        self.model = AutoModelForSequenceClassification.from_pretrained(model_name, num_labels=num_labels)\n",
    "\n",
    "    def forward(self, batch):\n",
    "        return self.model(\n",
    "            input_ids=batch['input_ids'],\n",
    "            attention_mask=batch['attention_mask'],\n",
    "            labels=batch.get('label')\n",
    "        )\n",
    "\n",
    "    def training_step(self, batch, batch_idx):\n",
    "        outputs = self(batch)\n",
    "        return outputs.loss\n",
    "\n",
    "    def validation_step(self, batch, batch_idx):\n",
    "        outputs = self(batch)\n",
    "        preds = torch.argmax(outputs.logits, dim=1)\n",
    "        acc = accuracy_score(batch['label'].cpu(), preds.cpu())\n",
    "        self.log('val_accuracy', acc, prog_bar=True)\n",
    "        return {\"loss\": outputs.loss, \"acc\": acc}\n",
    "\n",
    "    def test_step(self, batch, batch_idx):\n",
    "        outputs = self(batch)\n",
    "        preds = torch.argmax(outputs.logits, dim=1)\n",
    "        acc = accuracy_score(batch['label'].cpu(), preds.cpu())\n",
    "        self.log('test_accuracy', acc)\n",
    "        return {\"preds\": preds.cpu(), \"labels\": batch['label'].cpu()}\n",
    "\n",
    "    def predict_step(self, batch, batch_idx):\n",
    "        outputs = self.model(\n",
    "            input_ids=batch['input_ids'],\n",
    "            attention_mask=batch['attention_mask']\n",
    "        )\n",
    "        preds = torch.argmax(outputs.logits, dim=1)\n",
    "        return {\"preds\": preds.cpu(), \"labels\": batch['label'].cpu()}\n",
    "\n",
    "    def configure_optimizers(self):\n",
    "        optimizer = torch.optim.AdamW(self.parameters(), lr=self.hparams.learning_rate, weight_decay=0.1)\n",
    "        total_steps = self.trainer.estimated_stepping_batches\n",
    "        scheduler = get_scheduler(\n",
    "            name=\"linear\",\n",
    "            optimizer=optimizer,\n",
    "            num_warmup_steps=int(0.1 * total_steps),\n",
    "            num_training_steps=total_steps,\n",
    "        )\n",
    "        return {\n",
    "            \"optimizer\": optimizer,\n",
    "            \"lr_scheduler\": {\n",
    "                \"scheduler\": scheduler,\n",
    "                \"interval\": \"step\",\n",
    "                \"frequency\": 1,\n",
    "            },\n",
    "        }"
   ]
  },
  {
   "cell_type": "code",
   "execution_count": 6,
   "metadata": {
    "execution": {
     "iopub.execute_input": "2025-05-06T19:48:50.866020Z",
     "iopub.status.busy": "2025-05-06T19:48:50.865651Z",
     "iopub.status.idle": "2025-05-06T19:48:50.884568Z",
     "shell.execute_reply": "2025-05-06T19:48:50.883809Z",
     "shell.execute_reply.started": "2025-05-06T19:48:50.865970Z"
    },
    "trusted": true
   },
   "outputs": [],
   "source": [
    "def preprocess_data(df, text_column):\n",
    "    df = df[['Split', text_column, 'Sentiment']].rename(columns={text_column: 'text', 'Sentiment': 'label'})\n",
    "    df = df.dropna()\n",
    "    df = df[df['label'].isin([0, 1, 2])]\n",
    "    return df\n",
    "\n",
    "def plot_confusion_matrix(cm, class_names, filename):\n",
    "    plt.figure(figsize=(8, 6))\n",
    "    sns.heatmap(cm, annot=True, fmt='d', cmap='Blues', xticklabels=class_names, yticklabels=class_names)\n",
    "    plt.xlabel('Predicted')\n",
    "    plt.ylabel('True')\n",
    "    plt.tight_layout()\n",
    "    plt.savefig(filename)\n",
    "    plt.close()"
   ]
  },
  {
   "cell_type": "code",
   "execution_count": null,
   "metadata": {
    "execution": {
     "iopub.execute_input": "2025-05-06T19:48:50.885732Z",
     "iopub.status.busy": "2025-05-06T19:48:50.885447Z",
     "iopub.status.idle": "2025-05-06T19:48:50.907640Z",
     "shell.execute_reply": "2025-05-06T19:48:50.907101Z",
     "shell.execute_reply.started": "2025-05-06T19:48:50.885706Z"
    },
    "trusted": true
   },
   "outputs": [],
   "source": [
    "def run_training(language):\n",
    "    base_dir = \"/kaggle/input/translated-data\"\n",
    "    df = pd.read_csv(f\"{base_dir}/{language}_cleaned.csv\")\n",
    "    model_name = 'cardiffnlp/twitter-roberta-base-sentiment'\n",
    "    tokenizer = AutoTokenizer.from_pretrained(model_name)\n",
    "    class_names = [\"Negative\", \"Neutral\", \"Positive\"]\n",
    "\n",
    "    for mode in ['Cleaned_Fluent_Translation']:\n",
    "        print(f\"\\nLanguage: {language}, Mode: {mode}\")\n",
    "        data = preprocess_data(df, mode)\n",
    "\n",
    "        train_df = data[data['Split'] == 'train']\n",
    "        val_df = data[data['Split'] == 'val']\n",
    "        test_df = data[data['Split'] == 'test']\n",
    "\n",
    "        def train_tune(config):\n",
    "            dm = SentimentDataModule(tokenizer, train_df, val_df, test_df, config[\"batch_size\"])\n",
    "            model = SentimentClassifier(model_name, learning_rate=config[\"lr\"])\n",
    "\n",
    "            trainer = pl.Trainer(\n",
    "                max_epochs=10,\n",
    "                logger=CSVLogger(\"logs\", name=f\"{language}_{mode}\"),\n",
    "                enable_checkpointing=False,\n",
    "                callbacks=[TuneReportCallback({\"accuracy\": \"val_accuracy\"}, on=\"validation_end\")],\n",
    "                enable_progress_bar=False\n",
    "            )\n",
    "            trainer.fit(model, dm)\n",
    "\n",
    "        config = {\n",
    "            \"lr\": tune.grid_search([1e-5, 2e-5, 3e-5]),\n",
    "            \"batch_size\": tune.grid_search([16, 32])\n",
    "        }\n",
    "\n",
    "        analysis = tune.run(train_tune, config=config, metric=\"accuracy\", mode=\"max\", num_samples=1, resources_per_trial={\"cpu\": 2, \"gpu\": 1})\n",
    "\n",
    "        best_config = analysis.get_best_config(\"accuracy\", mode=\"max\")\n",
    "        print(f\"Best config: {best_config}\")\n",
    "\n",
    "        dm = SentimentDataModule(tokenizer, train_df, val_df, test_df, best_config[\"batch_size\"])\n",
    "        model = SentimentClassifier(model_name, learning_rate=best_config[\"lr\"])\n",
    "        trainer = pl.Trainer(max_epochs=10, enable_checkpointing=False, logger=False)\n",
    "        trainer.fit(model, dm)\n",
    "\n",
    "        results = trainer.test(model, datamodule=dm)[0]\n",
    "        predictions = trainer.predict(model, dataloaders=dm.test_dataloader())\n",
    "\n",
    "        preds = torch.cat([x['preds'] for x in predictions]).numpy()\n",
    "        labels = torch.cat([x['labels'] for x in predictions]).numpy()\n",
    "        cm = confusion_matrix(labels, preds)\n",
    "        plot_confusion_matrix(cm, class_names, f\"{language}_{mode}_conf_matrix.png\")\n",
    "\n",
    "        metrics = {\n",
    "            \"config\": best_config,\n",
    "            \"accuracy\": results['test_accuracy'],\n",
    "            \"classification_report\": classification_report(labels, preds, target_names=class_names, output_dict=True),\n",
    "            \"confusion_matrix\": cm.tolist()\n",
    "        }\n",
    "        with open(f\"{language}_{mode}_results.json\", \"w\") as f:\n",
    "            json.dump(metrics, f, indent=2)\n",
    "        print(f\"Saved: {language}_{mode}_results.json\")"
   ]
  },
  {
   "cell_type": "code",
   "execution_count": null,
   "metadata": {
    "execution": {
     "iopub.execute_input": "2025-05-06T16:53:06.684623Z",
     "iopub.status.busy": "2025-05-06T16:53:06.684332Z",
     "iopub.status.idle": "2025-05-06T16:53:10.583353Z",
     "shell.execute_reply": "2025-05-06T16:53:10.582539Z",
     "shell.execute_reply.started": "2025-05-06T16:53:06.684601Z"
    },
    "trusted": true
   },
   "outputs": [],
   "source": [
    "!pip install -U tensorboardx"
   ]
  },
  {
   "cell_type": "code",
   "execution_count": null,
   "metadata": {
    "execution": {
     "iopub.execute_input": "2025-05-06T16:53:22.303982Z",
     "iopub.status.busy": "2025-05-06T16:53:22.303687Z"
    },
    "trusted": true
   },
   "outputs": [],
   "source": [
    "run_training('spanish')"
   ]
  },
  {
   "cell_type": "code",
   "execution_count": null,
   "metadata": {
    "execution": {
     "iopub.execute_input": "2025-05-06T19:48:57.277066Z",
     "iopub.status.busy": "2025-05-06T19:48:57.276718Z",
     "iopub.status.idle": "2025-05-06T20:16:48.023229Z",
     "shell.execute_reply": "2025-05-06T20:16:48.022316Z",
     "shell.execute_reply.started": "2025-05-06T19:48:57.277041Z"
    },
    "trusted": true
   },
   "outputs": [],
   "source": [
    "run_training('french')"
   ]
  },
  {
   "cell_type": "code",
   "execution_count": null,
   "metadata": {
    "execution": {
     "iopub.execute_input": "2025-05-06T20:16:48.024725Z",
     "iopub.status.busy": "2025-05-06T20:16:48.024489Z",
     "iopub.status.idle": "2025-05-06T20:44:45.643566Z",
     "shell.execute_reply": "2025-05-06T20:44:45.642821Z",
     "shell.execute_reply.started": "2025-05-06T20:16:48.024705Z"
    },
    "trusted": true
   },
   "outputs": [],
   "source": [
    "run_training('italian')"
   ]
  },
  {
   "cell_type": "code",
   "execution_count": null,
   "metadata": {
    "execution": {
     "iopub.execute_input": "2025-05-06T20:44:45.644814Z",
     "iopub.status.busy": "2025-05-06T20:44:45.644568Z",
     "iopub.status.idle": "2025-05-06T21:12:31.216272Z",
     "shell.execute_reply": "2025-05-06T21:12:31.215046Z",
     "shell.execute_reply.started": "2025-05-06T20:44:45.644797Z"
    },
    "trusted": true
   },
   "outputs": [],
   "source": [
    "run_training('german')"
   ]
  },
  {
   "cell_type": "code",
   "execution_count": null,
   "metadata": {
    "execution": {
     "iopub.execute_input": "2025-05-06T21:12:31.219661Z",
     "iopub.status.busy": "2025-05-06T21:12:31.219292Z"
    },
    "trusted": true
   },
   "outputs": [],
   "source": [
    "run_training('arabic')"
   ]
  }
 ],
 "metadata": {
  "kaggle": {
   "accelerator": "nvidiaTeslaT4",
   "dataSources": [
    {
     "datasetId": 7226277,
     "sourceId": 11704042,
     "sourceType": "datasetVersion"
    }
   ],
   "dockerImageVersionId": 31011,
   "isGpuEnabled": true,
   "isInternetEnabled": true,
   "language": "python",
   "sourceType": "notebook"
  },
  "kernelspec": {
   "display_name": "Python 3",
   "language": "python",
   "name": "python3"
  },
  "language_info": {
   "codemirror_mode": {
    "name": "ipython",
    "version": 3
   },
   "file_extension": ".py",
   "mimetype": "text/x-python",
   "name": "python",
   "nbconvert_exporter": "python",
   "pygments_lexer": "ipython3",
   "version": "3.11.11"
  }
 },
 "nbformat": 4,
 "nbformat_minor": 4
}
